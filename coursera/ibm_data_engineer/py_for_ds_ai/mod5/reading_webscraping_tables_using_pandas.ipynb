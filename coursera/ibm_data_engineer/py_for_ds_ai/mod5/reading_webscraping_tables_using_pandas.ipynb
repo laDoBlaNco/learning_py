{
 "cells": [
  {
   "cell_type": "markdown",
   "id": "62a137d8-27a7-4d93-8abe-915bc2d88b63",
   "metadata": {},
   "source": [
    "## Web Scraping Tables using Pandas\n",
    "The pandas library in Python contains *read_html()* that can be used to extract tabular information from any web page.\n",
    "\n",
    "Consider the following example:\n",
    "\n",
    "Let's assume we want to extract the list of the largest banks in the world by market capitalization, from the following link"
   ]
  },
  {
   "cell_type": "code",
   "execution_count": 2,
   "id": "964185c2-e27d-4242-a66d-173b669e758f",
   "metadata": {},
   "outputs": [],
   "source": [
    "url = 'https://en.wikipedia.org/wiki/list_of_largest_banks'"
   ]
  },
  {
   "cell_type": "markdown",
   "id": "528f8e09-e30b-47b5-b6a6-85052af8e589",
   "metadata": {},
   "source": [
    "We may use the *pandas.read_html()* function in py to extract all the tables in the web page directly.\n",
    "\n",
    "If we look at the page we can see that the required table is the first one on the page. We may execute the following lines of code to extract the required table from the web page."
   ]
  },
  {
   "cell_type": "code",
   "execution_count": 5,
   "id": "8e257eb3-0118-4b83-bf34-0a6d75a4847e",
   "metadata": {},
   "outputs": [
    {
     "name": "stdout",
     "output_type": "stream",
     "text": [
      "    Rank                                Bank name  \\\n",
      "0      1  Industrial and Commercial Bank of China   \n",
      "1      2               Agricultural Bank of China   \n",
      "2      3                  China Construction Bank   \n",
      "3      4                            Bank of China   \n",
      "4      5                           JPMorgan Chase   \n",
      "..   ...                                      ...   \n",
      "95    96                         Raiffeisen Group   \n",
      "96    97                            Handelsbanken   \n",
      "97    98                 Industrial Bank of Korea   \n",
      "98    99                                      DNB   \n",
      "99   100                      Qatar National Bank   \n",
      "\n",
      "    Total assets (2023) (US$ billion)  \n",
      "0                             6303.44  \n",
      "1                             5623.12  \n",
      "2                             5400.28  \n",
      "3                             4578.28  \n",
      "4                             3875.39  \n",
      "..                                ...  \n",
      "95                             352.87  \n",
      "96                             351.79  \n",
      "97                             345.81  \n",
      "98                             339.21  \n",
      "99                             338.14  \n",
      "\n",
      "[100 rows x 3 columns]\n"
     ]
    }
   ],
   "source": [
    "import pandas as pd\n",
    "tables = pd.read_html(url)\n",
    "# tables is a list of all tables on the page so if we want the first one...\n",
    "df = tables[0]\n",
    "print(df)"
   ]
  },
  {
   "cell_type": "markdown",
   "id": "e1a11846-b541-4932-b41c-57101e9c6f64",
   "metadata": {},
   "source": [
    "This will extract the required table as a dataframe *df*. The output of the print statement is as seen above.\n",
    "\n",
    "Although convenient, this method comes with its own set of limitations. Firstly, web pages may have content saved in them as tables but they may not appear as tables on the web page.\n",
    "\n",
    "For instance, consider the following url showing the list of countries by GDP (nominal)"
   ]
  },
  {
   "cell_type": "code",
   "execution_count": 8,
   "id": "15a7e4ff-b43a-44cf-a45c-1d62e61d7778",
   "metadata": {},
   "outputs": [],
   "source": [
    "url = 'https://en.wikipedia.org/wiki/List_of_countries_by_GDP_(nominal)'"
   ]
  },
  {
   "cell_type": "markdown",
   "id": "8193542d-18e9-47bc-bd24-6e7131631acd",
   "metadata": {},
   "source": [
    "But the images are also saved in a tabular format, so this could mess with our script. \n",
    "\n",
    "Secondly, the contents of the tables in web pages may contain elements such as hyperlink text and other denoters, which are also scraped directly using the pandas method. This may lead to a requirement of further cleaning of the data.\n",
    "\n",
    "A closer look at table 3 on the above url shows us example of many hyperlinks which are also going to be treated as information by the pandas function."
   ]
  },
  {
   "cell_type": "code",
   "execution_count": 12,
   "id": "5a79d5e3-78ba-4a28-bc87-d09c1dddce47",
   "metadata": {},
   "outputs": [
    {
     "name": "stdout",
     "output_type": "stream",
     "text": [
      "[                                                   0\n",
      "0  Largest economies in the world by GDP (nominal...,                                                    0  \\\n",
      "0  > $20 trillion $10–20 trillion $5–10 trillion ...   \n",
      "\n",
      "                                                   1  \\\n",
      "0  $750 billion – $1 trillion $500–750 billion $2...   \n",
      "\n",
      "                                                   2  \n",
      "0  $50–100 billion $25–50 billion $5–25 billion <...  ,     Country/Territory IMF[1][13]            World Bank[14]             \\\n",
      "    Country/Territory   Forecast       Year       Estimate       Year   \n",
      "0               World  115494312       2025      105435540       2023   \n",
      "1       United States   30337162       2025       27360935       2023   \n",
      "2               China   19534894  [n 1]2025       17794782  [n 3]2023   \n",
      "3             Germany    4921563       2025        4456081       2023   \n",
      "4               Japan    4389326       2025        4212945       2023   \n",
      "..                ...        ...        ...            ...        ...   \n",
      "205          Kiribati        311       2024            279       2023   \n",
      "206             Palau        308       2024            263       2023   \n",
      "207  Marshall Islands        305       2024            284       2023   \n",
      "208             Nauru        161       2024            154       2023   \n",
      "209            Tuvalu         66       2024             62       2023   \n",
      "\n",
      "    United Nations[15]             \n",
      "              Estimate       Year  \n",
      "0            100834796       2022  \n",
      "1             25744100       2022  \n",
      "2             17963170  [n 1]2022  \n",
      "3              4076923       2022  \n",
      "4              4232173       2022  \n",
      "..                 ...        ...  \n",
      "205                223       2022  \n",
      "206                225       2022  \n",
      "207                279       2022  \n",
      "208                147       2022  \n",
      "209                 59       2022  \n",
      "\n",
      "[210 rows x 7 columns],          vteLists of countries by financial rankings  \\\n",
      "0                                              Trade   \n",
      "1                                         Investment   \n",
      "2                                              Funds   \n",
      "3                                    Budget and debt   \n",
      "4                                   Income and taxes   \n",
      "5                                         Bank rates   \n",
      "6                                           Currency   \n",
      "7                                              Other   \n",
      "8  Lists of countries by GDP rankings List of int...   \n",
      "\n",
      "       vteLists of countries by financial rankings.1  \n",
      "0  Account balance % of GDP Exports by product me...  \n",
      "1                   FDI received past FDI abroad GFI  \n",
      "2  Forex reserves Gold reserves Sovereign wealth ...  \n",
      "3  Government budget PPP % of GDP per capita Cred...  \n",
      "4  Tax rates Inheritance tax Tax revenue Wage ave...  \n",
      "5  Central bank interest rate Commercial bank pri...  \n",
      "6                                     Inflation rate  \n",
      "7  Financial Development Index Average annual lab...  \n",
      "8  Lists of countries by GDP rankings List of int...  ,                vteLists of countries by GDP rankings  \\\n",
      "0                                            Nominal   \n",
      "1                      Purchasing power parity (PPP)   \n",
      "2                                        Growth rate   \n",
      "3                        Gross national income (GNI)   \n",
      "4                                Countries by region   \n",
      "5                              Subnational divisions   \n",
      "6  Lists of countries by financial rankings List ...   \n",
      "\n",
      "             vteLists of countries by GDP rankings.1  \n",
      "0  Per capita Past and projected per capita Secto...  \n",
      "1  Per capita Past per capita Past and projected ...  \n",
      "2  African countries Asian states European Union ...  \n",
      "3  PPP per capita Nominal per capita Real income ...  \n",
      "4  Africa PPP nominal Commonwealth of Nations PPP...  \n",
      "5  Albania Argentina Armenia Australia Austria Ba...  \n",
      "6  Lists of countries by financial rankings List ...  ,               vteEconomic classification of countries  \\\n",
      "0   Developed country Developing country Heavily i...   \n",
      "1                              Three/Four-World Model   \n",
      "2                        Gross domestic product (GDP)   \n",
      "3                                             Nominal   \n",
      "4                       Purchasing power parity (PPP)   \n",
      "5                         Gross national income (GNI)   \n",
      "6                                               Wages   \n",
      "7                                              Wealth   \n",
      "8                             Other national accounts   \n",
      "9                                   Human development   \n",
      "10                                     Digital divide   \n",
      "11       Net international investment position (NIIP)   \n",
      "12                     Economics portal  World portal   \n",
      "\n",
      "            vteEconomic classification of countries.1  \n",
      "0   Developed country Developing country Heavily i...  \n",
      "1   First World Second World Third World Fourth World  \n",
      "2   Nominal By country past and projected per capi...  \n",
      "3   By country past and projected per capita per c...  \n",
      "4   By country future estimates per capita per cap...  \n",
      "5   Nominal per capita Real income PPP per capita ...  \n",
      "6   Average wage Europe Employee compensation (per...  \n",
      "7   Wealth per adult Europe Financial assets per c...  \n",
      "8   Gross National Happiness Net material product ...  \n",
      "9   Human Development Index by country inequality-...  \n",
      "10  ICT Development Index Number of broadband Inte...  \n",
      "11        Per capita (creditors) Per capita (debtors)  \n",
      "12                     Economics portal  World portal  ,                                0  \\\n",
      "0                        Nominal   \n",
      "1  Purchasing power parity (PPP)   \n",
      "\n",
      "                                                   1  \n",
      "0  By country past and projected per capita per c...  \n",
      "1  By country future estimates per capita per cap...  ]\n",
      "    Country/Territory IMF[1][13]            World Bank[14]             \\\n",
      "    Country/Territory   Forecast       Year       Estimate       Year   \n",
      "0               World  115494312       2025      105435540       2023   \n",
      "1       United States   30337162       2025       27360935       2023   \n",
      "2               China   19534894  [n 1]2025       17794782  [n 3]2023   \n",
      "3             Germany    4921563       2025        4456081       2023   \n",
      "4               Japan    4389326       2025        4212945       2023   \n",
      "..                ...        ...        ...            ...        ...   \n",
      "205          Kiribati        311       2024            279       2023   \n",
      "206             Palau        308       2024            263       2023   \n",
      "207  Marshall Islands        305       2024            284       2023   \n",
      "208             Nauru        161       2024            154       2023   \n",
      "209            Tuvalu         66       2024             62       2023   \n",
      "\n",
      "    United Nations[15]             \n",
      "              Estimate       Year  \n",
      "0            100834796       2022  \n",
      "1             25744100       2022  \n",
      "2             17963170  [n 1]2022  \n",
      "3              4076923       2022  \n",
      "4              4232173       2022  \n",
      "..                 ...        ...  \n",
      "205                223       2022  \n",
      "206                225       2022  \n",
      "207                279       2022  \n",
      "208                147       2022  \n",
      "209                 59       2022  \n",
      "\n",
      "[210 rows x 7 columns]\n"
     ]
    }
   ],
   "source": [
    "tables = pd.read_html(url)\n",
    "print(tables)\n",
    "df = tables[2] # the required table will have index 2\n",
    "print(df)"
   ]
  },
  {
   "cell_type": "markdown",
   "id": "78cae4d9-9d39-4256-819a-5b1155a3e188",
   "metadata": {},
   "source": [
    "Note that the hyperlink texts have also been retained in the code output. \n",
    "\n",
    "It is further prudent to point out, that this method exclusively operates only on tabular data extraction. BeautifulSoup library still remains the default method of extracting any kind of information from web pages."
   ]
  },
  {
   "cell_type": "code",
   "execution_count": null,
   "id": "1e7d0600-c513-46a2-bf39-ae4609b14ff7",
   "metadata": {},
   "outputs": [],
   "source": []
  }
 ],
 "metadata": {
  "kernelspec": {
   "display_name": "Python 3 (ipykernel)",
   "language": "python",
   "name": "python3"
  },
  "language_info": {
   "codemirror_mode": {
    "name": "ipython",
    "version": 3
   },
   "file_extension": ".py",
   "mimetype": "text/x-python",
   "name": "python",
   "nbconvert_exporter": "python",
   "pygments_lexer": "ipython3",
   "version": "3.13.0"
  }
 },
 "nbformat": 4,
 "nbformat_minor": 5
}
