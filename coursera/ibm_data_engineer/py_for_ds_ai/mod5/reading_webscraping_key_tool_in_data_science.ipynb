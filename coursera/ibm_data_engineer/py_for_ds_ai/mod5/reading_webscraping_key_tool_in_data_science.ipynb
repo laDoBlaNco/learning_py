{
 "cells": [
  {
   "cell_type": "markdown",
   "id": "9d3fe938-b336-433a-ac88-05206a57abe8",
   "metadata": {},
   "source": [
    "## Reading; Web Scraping - A Key Tool in Data Science\n",
    "Web scraping, also known as web harvesting or web data extraction, is a technique used to extract large amounts of data from websites. The data on websites is unstructured, and web scraping enables us to convert it into a structured form."
   ]
  },
  {
   "cell_type": "markdown",
   "id": "0d2cf5f0-8d12-4062-b21e-3c24df9f0306",
   "metadata": {},
   "source": [
    "#### Importance of Web Scraping in Data Science\n",
    "In the field of Data Science, web scraping plays an integral role. It is used for various purposes such as:\n",
    "- **Data Collection**: Web scraping is a primary method of collecting data from the internet. This data can be used for analysis, research, etc.\n",
    "- **Real-time Application**: Web scraping is used for real-time applications like weather updates, price comparison, etc.\n",
    "- **Machine Learning**: Web scraping provides the data needed to train machine learning models."
   ]
  },
  {
   "cell_type": "markdown",
   "id": "70863a44-05d6-4dcd-b842-5806f2956eb5",
   "metadata": {},
   "source": [
    "#### Web Scraping with Python\n",
    "Python provides several libraries for web scraping. Here are some of them:\n",
    "- **Beautiful Soup**: BeautifulSoup is a python library used for web scraping purposes to pull the data out of HTML and XML files. It creates a parse tree from page source code that can be used to extract data in a hierarchical andmore readable manner."
   ]
  },
  {
   "cell_type": "code",
   "execution_count": 1,
   "id": "50a33c75-4180-41f9-b374-8a676e0246d9",
   "metadata": {},
   "outputs": [
    {
     "data": {
      "text/plain": [
       "<!DOCTYPE html>\n",
       "\n",
       "<html>\n",
       "<head>\n",
       "<title>Example Domain</title>\n",
       "<meta charset=\"utf-8\"/>\n",
       "<meta content=\"text/html; charset=utf-8\" http-equiv=\"Content-type\"/>\n",
       "<meta content=\"width=device-width, initial-scale=1\" name=\"viewport\"/>\n",
       "<style type=\"text/css\">\n",
       "    body {\n",
       "        background-color: #f0f0f2;\n",
       "        margin: 0;\n",
       "        padding: 0;\n",
       "        font-family: -apple-system, system-ui, BlinkMacSystemFont, \"Segoe UI\", \"Open Sans\", \"Helvetica Neue\", Helvetica, Arial, sans-serif;\n",
       "        \n",
       "    }\n",
       "    div {\n",
       "        width: 600px;\n",
       "        margin: 5em auto;\n",
       "        padding: 2em;\n",
       "        background-color: #fdfdff;\n",
       "        border-radius: 0.5em;\n",
       "        box-shadow: 2px 3px 7px 2px rgba(0,0,0,0.02);\n",
       "    }\n",
       "    a:link, a:visited {\n",
       "        color: #38488f;\n",
       "        text-decoration: none;\n",
       "    }\n",
       "    @media (max-width: 700px) {\n",
       "        div {\n",
       "            margin: 0 auto;\n",
       "            width: auto;\n",
       "        }\n",
       "    }\n",
       "    </style>\n",
       "</head>\n",
       "<body>\n",
       "<div>\n",
       "<h1>Example Domain</h1>\n",
       "<p>This domain is for use in illustrative examples in documents. You may use this\n",
       "    domain in literature without prior coordination or asking for permission.</p>\n",
       "<p><a href=\"https://www.iana.org/domains/example\">More information...</a></p>\n",
       "</div>\n",
       "</body>\n",
       "</html>"
      ]
     },
     "execution_count": 1,
     "metadata": {},
     "output_type": "execute_result"
    }
   ],
   "source": [
    "from bs4 import BeautifulSoup\n",
    "import requests\n",
    "url = \"http://www.example.com\"\n",
    "page = requests.get(url)\n",
    "soup = BeautifulSoup(page.content,'html.parser')\n",
    "soup"
   ]
  },
  {
   "cell_type": "markdown",
   "id": "5969011f-fcef-4669-aa53-0170fbaf4995",
   "metadata": {},
   "source": [
    "- **Scrapy**: Scrapy is an open-source and collaborative web crawling framework in Python. It is used to extract data from the website."
   ]
  },
  {
   "cell_type": "code",
   "execution_count": 5,
   "id": "8be77dbc-4910-4f49-af35-339b857e9434",
   "metadata": {},
   "outputs": [],
   "source": [
    "import scrapy\n",
    "class QuotesSpider(scrapy.Spider):\n",
    "    name = 'quotes'\n",
    "    start_urls = ['http://quotes.toscrape.com/tag/humor/',]\n",
    "    def parse(self,response):\n",
    "        for quote in response.css('div.quote'):\n",
    "            yield {'quote':quote.css('span.text::text').get()}"
   ]
  },
  {
   "cell_type": "markdown",
   "id": "0e40f4b7-b28a-40cb-b7ec-ed88f37b339f",
   "metadata": {},
   "source": [
    "- **Selenium**: Selenium is a tool used for controlling web browsers through programs and automating browser tasks."
   ]
  },
  {
   "cell_type": "code",
   "execution_count": 10,
   "id": "bf2ebdcd-1a9c-4ed4-99cb-9dd9eeb6ee6f",
   "metadata": {},
   "outputs": [],
   "source": [
    "from selenium import webdriver\n",
    "driver = webdriver.Chrome()\n",
    "driver.get(\"http://example.com\")"
   ]
  },
  {
   "cell_type": "markdown",
   "id": "035464ef-f299-48a4-a0e9-32fcfef0d414",
   "metadata": {},
   "source": [
    "#### Applications of Web Scraping\n",
    "Web scraping is used in various fields and has many applications:\n",
    "- **Price Comparison**: Services such as ParseHub use web scraping to collect data from online shopping websites and use it to compare the prices of products.\n",
    "- **Email address gathering**: Many companies that use email as a medium for marketing, use web scraping to collect email ID and then send bulk emails.\n",
    "- **Social Media Scraping**: Web scraping is used to collect data from Social Media websites such as Twitter to find out what's trending."
   ]
  },
  {
   "cell_type": "markdown",
   "id": "4778b5d3-6458-4cf8-a70d-a82a2c1ad4c5",
   "metadata": {},
   "source": [
    "## Conclusion\n",
    "Web scraping is an essential skill in the fast-growing world of data-science. It provides the ability to turn the web into a source of data that can be analyzed, processed, and used for a variety of applications. However, it's important to remember that one  should use web scraping responsibly and ethically, respecting the terms of use or robots.txt files of the websites being scraped."
   ]
  },
  {
   "cell_type": "code",
   "execution_count": null,
   "id": "e9899a62-3a7a-4875-9df2-65909007e1e9",
   "metadata": {},
   "outputs": [],
   "source": []
  }
 ],
 "metadata": {
  "kernelspec": {
   "display_name": "Python 3 (ipykernel)",
   "language": "python",
   "name": "python3"
  },
  "language_info": {
   "codemirror_mode": {
    "name": "ipython",
    "version": 3
   },
   "file_extension": ".py",
   "mimetype": "text/x-python",
   "name": "python",
   "nbconvert_exporter": "python",
   "pygments_lexer": "ipython3",
   "version": "3.13.0"
  }
 },
 "nbformat": 4,
 "nbformat_minor": 5
}
